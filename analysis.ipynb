{
 "cells": [
  {
   "cell_type": "markdown",
   "id": "c062c05f",
   "metadata": {},
   "source": [
    "# Lab 7\n",
    "\n",
    "# Name: Obaidullah Miakhil\n",
    "# ID: B21F0801CS052\n",
    "# Introduction\n",
    "\n",
    "This report presents a detailed analysis of two distinct datasets: one focusing on cargo trends and the other on passenger demographics aboard the Titanic. Through visualizations such as pie charts and mosaic charts, this analysis aims to uncover insights into cargo distribution over time and survival dynamics among Titanic passengers based on gender and passenger class.\n",
    "\n",
    "The report is structured into three main sections:\n",
    "\n",
    "1. **Pie Chart for 2013:** Analyzes the distribution of cargo items in the year 2013, providing insights into the relative importance of different cargo types during that period.\n",
    "\n",
    "2. **Nested Pie Chart for 2010-2014 Data:** Explores cargo trends over a five-year span, showcasing both the overall trend and the year-wise breakdown of cargo types.\n",
    "\n",
    "3. **Mosaic Chart for 'Gender', 'Pclass', and 'Survived' Columns (Titanic Dataset):** Investigates survival rates among Titanic passengers based on gender and passenger class, offering insights into the dynamics of survival during the tragic event.\n",
    "\n",
    "Each section employs data preprocessing techniques, visualization tools, and analytical methods to extract meaningful insights from the datasets. The conclusions drawn from these analyses can inform decision-making processes in cargo management and provide historical context to understand the human aspect of maritime disasters.\n",
    "\n",
    "Let's delve into the detailed analysis and visual representations to uncover valuable insights from the datasets.\n"
   ]
  },
  {
   "cell_type": "code",
   "execution_count": 57,
   "id": "51ac43f3",
   "metadata": {},
   "outputs": [],
   "source": [
    "import pandas as pd\n",
    "import matplotlib.pyplot as plt\n",
    "import seaborn as sns\n",
    "import numpy as np\n",
    "from statsmodels.graphics.mosaicplot import mosaic"
   ]
  },
  {
   "cell_type": "code",
   "execution_count": 51,
   "id": "a8480df0",
   "metadata": {},
   "outputs": [],
   "source": [
    "import warnings\n",
    "warnings.filterwarnings(\"ignore\")"
   ]
  },
  {
   "cell_type": "code",
   "execution_count": 2,
   "id": "14a3e449",
   "metadata": {},
   "outputs": [],
   "source": [
    "from sklearn.preprocessing import LabelEncoder"
   ]
  },
  {
   "cell_type": "code",
   "execution_count": 3,
   "id": "4fb35781",
   "metadata": {},
   "outputs": [],
   "source": [
    "df = pd.read_csv('Dataset_Cargo.csv')"
   ]
  },
  {
   "cell_type": "code",
   "execution_count": 4,
   "id": "9683cd3a",
   "metadata": {
    "scrolled": true
   },
   "outputs": [
    {
     "data": {
      "text/html": [
       "<div>\n",
       "<style scoped>\n",
       "    .dataframe tbody tr th:only-of-type {\n",
       "        vertical-align: middle;\n",
       "    }\n",
       "\n",
       "    .dataframe tbody tr th {\n",
       "        vertical-align: top;\n",
       "    }\n",
       "\n",
       "    .dataframe thead th {\n",
       "        text-align: right;\n",
       "    }\n",
       "</style>\n",
       "<table border=\"1\" class=\"dataframe\">\n",
       "  <thead>\n",
       "    <tr style=\"text-align: right;\">\n",
       "      <th></th>\n",
       "      <th>Year</th>\n",
       "      <th>Item</th>\n",
       "      <th>Dry Cargo Liner</th>\n",
       "      <th>Dry Cargo Bulk Carrier</th>\n",
       "      <th>Oil Tanker</th>\n",
       "      <th>Passenger-cum-Cargo</th>\n",
       "      <th>Off-shore Supply</th>\n",
       "      <th>Specialised for Off-shore Services</th>\n",
       "      <th>Total</th>\n",
       "    </tr>\n",
       "  </thead>\n",
       "  <tbody>\n",
       "    <tr>\n",
       "      <th>0</th>\n",
       "      <td>1980</td>\n",
       "      <td>No. of Vessels</td>\n",
       "      <td>38.0</td>\n",
       "      <td>NaN</td>\n",
       "      <td>10.0</td>\n",
       "      <td>10.0</td>\n",
       "      <td>NaN</td>\n",
       "      <td>NaN</td>\n",
       "      <td>58.0</td>\n",
       "    </tr>\n",
       "    <tr>\n",
       "      <th>1</th>\n",
       "      <td>1980</td>\n",
       "      <td>GRT</td>\n",
       "      <td>128.0</td>\n",
       "      <td>NaN</td>\n",
       "      <td>98.0</td>\n",
       "      <td>28.0</td>\n",
       "      <td>NaN</td>\n",
       "      <td>NaN</td>\n",
       "      <td>254.0</td>\n",
       "    </tr>\n",
       "    <tr>\n",
       "      <th>2</th>\n",
       "      <td>1980</td>\n",
       "      <td>DWT</td>\n",
       "      <td>NaN</td>\n",
       "      <td>NaN</td>\n",
       "      <td>NaN</td>\n",
       "      <td>NaN</td>\n",
       "      <td>NaN</td>\n",
       "      <td>NaN</td>\n",
       "      <td>NaN</td>\n",
       "    </tr>\n",
       "    <tr>\n",
       "      <th>3</th>\n",
       "      <td>1981</td>\n",
       "      <td>No. of Vessels</td>\n",
       "      <td>39.0</td>\n",
       "      <td>NaN</td>\n",
       "      <td>16.0</td>\n",
       "      <td>10.0</td>\n",
       "      <td>NaN</td>\n",
       "      <td>NaN</td>\n",
       "      <td>65.0</td>\n",
       "    </tr>\n",
       "    <tr>\n",
       "      <th>4</th>\n",
       "      <td>1981</td>\n",
       "      <td>GRT</td>\n",
       "      <td>119.0</td>\n",
       "      <td>NaN</td>\n",
       "      <td>153.0</td>\n",
       "      <td>28.0</td>\n",
       "      <td>NaN</td>\n",
       "      <td>NaN</td>\n",
       "      <td>300.0</td>\n",
       "    </tr>\n",
       "  </tbody>\n",
       "</table>\n",
       "</div>"
      ],
      "text/plain": [
       "   Year            Item  Dry Cargo Liner  Dry Cargo Bulk Carrier  Oil Tanker  \\\n",
       "0  1980  No. of Vessels             38.0                     NaN        10.0   \n",
       "1  1980             GRT            128.0                     NaN        98.0   \n",
       "2  1980             DWT              NaN                     NaN         NaN   \n",
       "3  1981  No. of Vessels             39.0                     NaN        16.0   \n",
       "4  1981             GRT            119.0                     NaN       153.0   \n",
       "\n",
       "   Passenger-cum-Cargo  Off-shore Supply  Specialised for Off-shore Services  \\\n",
       "0                 10.0               NaN                                 NaN   \n",
       "1                 28.0               NaN                                 NaN   \n",
       "2                  NaN               NaN                                 NaN   \n",
       "3                 10.0               NaN                                 NaN   \n",
       "4                 28.0               NaN                                 NaN   \n",
       "\n",
       "   Total  \n",
       "0   58.0  \n",
       "1  254.0  \n",
       "2    NaN  \n",
       "3   65.0  \n",
       "4  300.0  "
      ]
     },
     "execution_count": 4,
     "metadata": {},
     "output_type": "execute_result"
    }
   ],
   "source": [
    "df.head()"
   ]
  },
  {
   "cell_type": "code",
   "execution_count": 5,
   "id": "8da66d63",
   "metadata": {},
   "outputs": [],
   "source": [
    "df.dropna(inplace=True)"
   ]
  },
  {
   "cell_type": "code",
   "execution_count": 6,
   "id": "d8ddf734",
   "metadata": {},
   "outputs": [
    {
     "data": {
      "text/html": [
       "<div>\n",
       "<style scoped>\n",
       "    .dataframe tbody tr th:only-of-type {\n",
       "        vertical-align: middle;\n",
       "    }\n",
       "\n",
       "    .dataframe tbody tr th {\n",
       "        vertical-align: top;\n",
       "    }\n",
       "\n",
       "    .dataframe thead th {\n",
       "        text-align: right;\n",
       "    }\n",
       "</style>\n",
       "<table border=\"1\" class=\"dataframe\">\n",
       "  <thead>\n",
       "    <tr style=\"text-align: right;\">\n",
       "      <th></th>\n",
       "      <th>Year</th>\n",
       "      <th>Item</th>\n",
       "      <th>Dry Cargo Liner</th>\n",
       "      <th>Dry Cargo Bulk Carrier</th>\n",
       "      <th>Oil Tanker</th>\n",
       "      <th>Passenger-cum-Cargo</th>\n",
       "      <th>Off-shore Supply</th>\n",
       "      <th>Specialised for Off-shore Services</th>\n",
       "      <th>Total</th>\n",
       "    </tr>\n",
       "  </thead>\n",
       "  <tbody>\n",
       "    <tr>\n",
       "      <th>30</th>\n",
       "      <td>1990</td>\n",
       "      <td>No. of Vessels</td>\n",
       "      <td>32.0</td>\n",
       "      <td>6.0</td>\n",
       "      <td>15.0</td>\n",
       "      <td>14.0</td>\n",
       "      <td>63.0</td>\n",
       "      <td>31.0</td>\n",
       "      <td>162.0</td>\n",
       "    </tr>\n",
       "    <tr>\n",
       "      <th>31</th>\n",
       "      <td>1990</td>\n",
       "      <td>GRT</td>\n",
       "      <td>25.0</td>\n",
       "      <td>121.0</td>\n",
       "      <td>171.0</td>\n",
       "      <td>39.0</td>\n",
       "      <td>68.0</td>\n",
       "      <td>95.0</td>\n",
       "      <td>523.0</td>\n",
       "    </tr>\n",
       "    <tr>\n",
       "      <th>32</th>\n",
       "      <td>1990</td>\n",
       "      <td>DWT</td>\n",
       "      <td>45.0</td>\n",
       "      <td>189.0</td>\n",
       "      <td>268.0</td>\n",
       "      <td>20.0</td>\n",
       "      <td>76.0</td>\n",
       "      <td>71.0</td>\n",
       "      <td>675.0</td>\n",
       "    </tr>\n",
       "    <tr>\n",
       "      <th>33</th>\n",
       "      <td>1991</td>\n",
       "      <td>No. of Vessels</td>\n",
       "      <td>32.0</td>\n",
       "      <td>10.0</td>\n",
       "      <td>18.0</td>\n",
       "      <td>13.0</td>\n",
       "      <td>63.0</td>\n",
       "      <td>32.0</td>\n",
       "      <td>169.0</td>\n",
       "    </tr>\n",
       "    <tr>\n",
       "      <th>34</th>\n",
       "      <td>1991</td>\n",
       "      <td>GRT</td>\n",
       "      <td>25.0</td>\n",
       "      <td>127.0</td>\n",
       "      <td>193.0</td>\n",
       "      <td>49.0</td>\n",
       "      <td>68.0</td>\n",
       "      <td>95.0</td>\n",
       "      <td>561.0</td>\n",
       "    </tr>\n",
       "  </tbody>\n",
       "</table>\n",
       "</div>"
      ],
      "text/plain": [
       "    Year            Item  Dry Cargo Liner  Dry Cargo Bulk Carrier  Oil Tanker  \\\n",
       "30  1990  No. of Vessels             32.0                     6.0        15.0   \n",
       "31  1990             GRT             25.0                   121.0       171.0   \n",
       "32  1990             DWT             45.0                   189.0       268.0   \n",
       "33  1991  No. of Vessels             32.0                    10.0        18.0   \n",
       "34  1991             GRT             25.0                   127.0       193.0   \n",
       "\n",
       "    Passenger-cum-Cargo  Off-shore Supply  Specialised for Off-shore Services  \\\n",
       "30                 14.0              63.0                                31.0   \n",
       "31                 39.0              68.0                                95.0   \n",
       "32                 20.0              76.0                                71.0   \n",
       "33                 13.0              63.0                                32.0   \n",
       "34                 49.0              68.0                                95.0   \n",
       "\n",
       "    Total  \n",
       "30  162.0  \n",
       "31  523.0  \n",
       "32  675.0  \n",
       "33  169.0  \n",
       "34  561.0  "
      ]
     },
     "execution_count": 6,
     "metadata": {},
     "output_type": "execute_result"
    }
   ],
   "source": [
    "df.head()"
   ]
  },
  {
   "cell_type": "code",
   "execution_count": 7,
   "id": "de531ebe",
   "metadata": {},
   "outputs": [],
   "source": [
    "year_2013 = df.loc[(df.Year==2013)]\n",
    "item_totals = year_2013.groupby('Item').sum().sum(axis=1)"
   ]
  },
  {
   "cell_type": "code",
   "execution_count": 9,
   "id": "3122375f",
   "metadata": {
    "scrolled": true
   },
   "outputs": [
    {
     "data": {
      "text/html": [
       "<div>\n",
       "<style scoped>\n",
       "    .dataframe tbody tr th:only-of-type {\n",
       "        vertical-align: middle;\n",
       "    }\n",
       "\n",
       "    .dataframe tbody tr th {\n",
       "        vertical-align: top;\n",
       "    }\n",
       "\n",
       "    .dataframe thead th {\n",
       "        text-align: right;\n",
       "    }\n",
       "</style>\n",
       "<table border=\"1\" class=\"dataframe\">\n",
       "  <thead>\n",
       "    <tr style=\"text-align: right;\">\n",
       "      <th></th>\n",
       "      <th>Year</th>\n",
       "      <th>Item</th>\n",
       "      <th>Dry Cargo Liner</th>\n",
       "      <th>Dry Cargo Bulk Carrier</th>\n",
       "      <th>Oil Tanker</th>\n",
       "      <th>Passenger-cum-Cargo</th>\n",
       "      <th>Off-shore Supply</th>\n",
       "      <th>Specialised for Off-shore Services</th>\n",
       "      <th>Total</th>\n",
       "    </tr>\n",
       "  </thead>\n",
       "  <tbody>\n",
       "    <tr>\n",
       "      <th>99</th>\n",
       "      <td>2013</td>\n",
       "      <td>No. of Vessels</td>\n",
       "      <td>545.0</td>\n",
       "      <td>31.0</td>\n",
       "      <td>18.0</td>\n",
       "      <td>94.0</td>\n",
       "      <td>105.0</td>\n",
       "      <td>42.0</td>\n",
       "      <td>835.0</td>\n",
       "    </tr>\n",
       "    <tr>\n",
       "      <th>100</th>\n",
       "      <td>2013</td>\n",
       "      <td>GRT</td>\n",
       "      <td>500.0</td>\n",
       "      <td>248.0</td>\n",
       "      <td>75.0</td>\n",
       "      <td>107.0</td>\n",
       "      <td>114.0</td>\n",
       "      <td>91.0</td>\n",
       "      <td>1135.0</td>\n",
       "    </tr>\n",
       "    <tr>\n",
       "      <th>101</th>\n",
       "      <td>2013</td>\n",
       "      <td>DWT</td>\n",
       "      <td>493.0</td>\n",
       "      <td>368.0</td>\n",
       "      <td>91.0</td>\n",
       "      <td>29.0</td>\n",
       "      <td>113.0</td>\n",
       "      <td>54.0</td>\n",
       "      <td>1148.0</td>\n",
       "    </tr>\n",
       "  </tbody>\n",
       "</table>\n",
       "</div>"
      ],
      "text/plain": [
       "     Year            Item  Dry Cargo Liner  Dry Cargo Bulk Carrier  \\\n",
       "99   2013  No. of Vessels            545.0                    31.0   \n",
       "100  2013             GRT            500.0                   248.0   \n",
       "101  2013             DWT            493.0                   368.0   \n",
       "\n",
       "     Oil Tanker  Passenger-cum-Cargo  Off-shore Supply  \\\n",
       "99         18.0                 94.0             105.0   \n",
       "100        75.0                107.0             114.0   \n",
       "101        91.0                 29.0             113.0   \n",
       "\n",
       "     Specialised for Off-shore Services   Total  \n",
       "99                                 42.0   835.0  \n",
       "100                                91.0  1135.0  \n",
       "101                                54.0  1148.0  "
      ]
     },
     "execution_count": 9,
     "metadata": {},
     "output_type": "execute_result"
    }
   ],
   "source": [
    "year_2013"
   ]
  },
  {
   "cell_type": "code",
   "execution_count": 62,
   "id": "d2b7377a",
   "metadata": {},
   "outputs": [
    {
     "data": {
      "image/png": "[encoded data removed]",
      "text/plain": [
       "<Figure size 640x480 with 1 Axes>"
      ]
     },
     "metadata": {},
     "output_type": "display_data"
    }
   ],
   "source": [
    "plt.pie(item_totals, labels=item_totals.index, autopct='%1.1f%%', startangle=140)\n",
    "plt.title('Distribution of Items in 2013')\n",
    "\n",
    "plt.show()"
   ]
  },
  {
   "cell_type": "markdown",
   "id": "693123b2",
   "metadata": {},
   "source": [
    "## 1. Pie Chart for 2013:\n",
    "\n",
    "**Data Overview:**\n",
    "- The analysis begins with the 'Dataset_Cargo.csv' dataset, which provides information about various types of cargo vessels over different years.\n",
    "\n",
    "**Methodology:**\n",
    "- The dataset is loaded into a pandas DataFrame, and data for the year 2013 is extracted.\n",
    "- The sum of different cargo items (e.g., Dry Cargo Liner, Oil Tanker) is calculated for the year 2013.\n",
    "\n",
    "**Visualization:**\n",
    "- A pie chart is created using matplotlib to visualize the distribution of cargo items in 2013.\n",
    "- Each slice of the pie represents the percentage contribution of a specific cargo item to the total cargo volume for the year.\n",
    "\n",
    "**Insights:**\n",
    "- The pie chart helps in understanding the relative importance of different cargo types in the year 2013.\n",
    "- It may reveal trends such as the dominance of certain cargo categories or shifts in cargo preferences over time.\n",
    "\n",
    "---"
   ]
  },
  {
   "cell_type": "code",
   "execution_count": 15,
   "id": "054f7a12",
   "metadata": {},
   "outputs": [],
   "source": [
    "filter_year = df[(df['Year'] >= 2010) & (df['Year'] <= 2014)]"
   ]
  },
  {
   "cell_type": "code",
   "execution_count": 53,
   "id": "6faba294",
   "metadata": {
    "scrolled": false
   },
   "outputs": [
    {
     "data": {
      "text/plain": [
       "[]"
      ]
     },
     "execution_count": 53,
     "metadata": {},
     "output_type": "execute_result"
    },
    {
     "data": {
      "image/png": "[encoded data removed]",
      "text/plain": [
       "<Figure size 640x480 with 1 Axes>"
      ]
     },
     "metadata": {},
     "output_type": "display_data"
    }
   ],
   "source": [
    "fig,ax = plt.subplots()\n",
    "size = 0.3\n",
    "cmap = plt.colormaps['tab20c']\n",
    "outer_color = cmap(np.arange(3)*4)\n",
    "inner_colors = cmap([1, 2, 5, 6, 9, 10])\n",
    "\n",
    "ax.pie(item_totals, radius=1-size, colors=outer_color, wedgeprops=dict(width=size, edgecolor='w'), autopct='%1.1f%%')\n",
    "\n",
    "filter_year['Year'] = filter_year['Year'].astype(str)\n",
    "year_totals = filter_year.groupby('Year').sum()\n",
    "ax.pie(item_totals, radius=1, colors=inner_colors, wedgeprops=dict(width=size, edgecolor='w'), autopct='%1.1f%%')\n",
    "plt.plot()"
   ]
  },
  {
   "cell_type": "markdown",
   "id": "bd0e709c",
   "metadata": {},
   "source": [
    "## 2. Nested Pie Chart for 2010-2014 Data:\n",
    "\n",
    "**Data Overview:**\n",
    "- The same 'Dataset_Cargo.csv' dataset is used to analyze cargo trends over a broader time span from 2010 to 2014.\n",
    "\n",
    "**Methodology:**\n",
    "- Data for the specified years (2010-2014) is filtered from the dataset.\n",
    "- The sum of cargo items is calculated for each year within the specified range.\n",
    "\n",
    "**Visualization:**\n",
    "- A nested pie chart is created using matplotlib, where the outer pie represents the total cargo volume across all years, and the inner pies represent the distribution of cargo items for each individual year.\n",
    "- Different colors and percentages in the chart segments aid in understanding the composition of cargo types over the years.\n",
    "\n",
    "**Insights:**\n",
    "- The nested pie chart provides a comprehensive view of cargo trends, showing both the overall trend and the year-wise breakdown of cargo types.\n",
    "- It can highlight any significant changes or consistencies in cargo preferences over the specified time period.\n",
    "\n",
    "---"
   ]
  },
  {
   "cell_type": "code",
   "execution_count": 54,
   "id": "408a1d70",
   "metadata": {},
   "outputs": [],
   "source": [
    "df = pd.read_csv('titanic.csv')"
   ]
  },
  {
   "cell_type": "code",
   "execution_count": 55,
   "id": "52ac146f",
   "metadata": {
    "scrolled": true
   },
   "outputs": [
    {
     "data": {
      "text/html": [
       "<div>\n",
       "<style scoped>\n",
       "    .dataframe tbody tr th:only-of-type {\n",
       "        vertical-align: middle;\n",
       "    }\n",
       "\n",
       "    .dataframe tbody tr th {\n",
       "        vertical-align: top;\n",
       "    }\n",
       "\n",
       "    .dataframe thead th {\n",
       "        text-align: right;\n",
       "    }\n",
       "</style>\n",
       "<table border=\"1\" class=\"dataframe\">\n",
       "  <thead>\n",
       "    <tr style=\"text-align: right;\">\n",
       "      <th></th>\n",
       "      <th>pclass</th>\n",
       "      <th>survived</th>\n",
       "      <th>name</th>\n",
       "      <th>gender</th>\n",
       "      <th>age</th>\n",
       "      <th>sibsp</th>\n",
       "      <th>parch</th>\n",
       "      <th>ticket</th>\n",
       "      <th>fare</th>\n",
       "      <th>cabin</th>\n",
       "      <th>embarked</th>\n",
       "      <th>boat</th>\n",
       "      <th>body</th>\n",
       "      <th>home.dest</th>\n",
       "    </tr>\n",
       "  </thead>\n",
       "  <tbody>\n",
       "    <tr>\n",
       "      <th>0</th>\n",
       "      <td>1</td>\n",
       "      <td>1</td>\n",
       "      <td>Allen, Miss. Elisabeth Walton</td>\n",
       "      <td>female</td>\n",
       "      <td>29.0000</td>\n",
       "      <td>0</td>\n",
       "      <td>0</td>\n",
       "      <td>24160</td>\n",
       "      <td>211.3375</td>\n",
       "      <td>B5</td>\n",
       "      <td>S</td>\n",
       "      <td>2</td>\n",
       "      <td>NaN</td>\n",
       "      <td>St Louis, MO</td>\n",
       "    </tr>\n",
       "    <tr>\n",
       "      <th>1</th>\n",
       "      <td>1</td>\n",
       "      <td>1</td>\n",
       "      <td>Allison, Master. Hudson Trevor</td>\n",
       "      <td>male</td>\n",
       "      <td>0.9167</td>\n",
       "      <td>1</td>\n",
       "      <td>2</td>\n",
       "      <td>113781</td>\n",
       "      <td>151.5500</td>\n",
       "      <td>C22 C26</td>\n",
       "      <td>S</td>\n",
       "      <td>11</td>\n",
       "      <td>NaN</td>\n",
       "      <td>Montreal, PQ / Chesterville, ON</td>\n",
       "    </tr>\n",
       "    <tr>\n",
       "      <th>2</th>\n",
       "      <td>1</td>\n",
       "      <td>0</td>\n",
       "      <td>Allison, Miss. Helen Loraine</td>\n",
       "      <td>female</td>\n",
       "      <td>2.0000</td>\n",
       "      <td>1</td>\n",
       "      <td>2</td>\n",
       "      <td>113781</td>\n",
       "      <td>151.5500</td>\n",
       "      <td>C22 C26</td>\n",
       "      <td>S</td>\n",
       "      <td>NaN</td>\n",
       "      <td>NaN</td>\n",
       "      <td>Montreal, PQ / Chesterville, ON</td>\n",
       "    </tr>\n",
       "    <tr>\n",
       "      <th>3</th>\n",
       "      <td>1</td>\n",
       "      <td>0</td>\n",
       "      <td>Allison, Mr. Hudson Joshua Creighton</td>\n",
       "      <td>male</td>\n",
       "      <td>30.0000</td>\n",
       "      <td>1</td>\n",
       "      <td>2</td>\n",
       "      <td>113781</td>\n",
       "      <td>151.5500</td>\n",
       "      <td>C22 C26</td>\n",
       "      <td>S</td>\n",
       "      <td>NaN</td>\n",
       "      <td>135.0</td>\n",
       "      <td>Montreal, PQ / Chesterville, ON</td>\n",
       "    </tr>\n",
       "    <tr>\n",
       "      <th>4</th>\n",
       "      <td>1</td>\n",
       "      <td>0</td>\n",
       "      <td>Allison, Mrs. Hudson J C (Bessie Waldo Daniels)</td>\n",
       "      <td>female</td>\n",
       "      <td>25.0000</td>\n",
       "      <td>1</td>\n",
       "      <td>2</td>\n",
       "      <td>113781</td>\n",
       "      <td>151.5500</td>\n",
       "      <td>C22 C26</td>\n",
       "      <td>S</td>\n",
       "      <td>NaN</td>\n",
       "      <td>NaN</td>\n",
       "      <td>Montreal, PQ / Chesterville, ON</td>\n",
       "    </tr>\n",
       "  </tbody>\n",
       "</table>\n",
       "</div>"
      ],
      "text/plain": [
       "   pclass  survived                                             name  gender  \\\n",
       "0       1         1                    Allen, Miss. Elisabeth Walton  female   \n",
       "1       1         1                   Allison, Master. Hudson Trevor    male   \n",
       "2       1         0                     Allison, Miss. Helen Loraine  female   \n",
       "3       1         0             Allison, Mr. Hudson Joshua Creighton    male   \n",
       "4       1         0  Allison, Mrs. Hudson J C (Bessie Waldo Daniels)  female   \n",
       "\n",
       "       age  sibsp  parch  ticket      fare    cabin embarked boat   body  \\\n",
       "0  29.0000      0      0   24160  211.3375       B5        S    2    NaN   \n",
       "1   0.9167      1      2  113781  151.5500  C22 C26        S   11    NaN   \n",
       "2   2.0000      1      2  113781  151.5500  C22 C26        S  NaN    NaN   \n",
       "3  30.0000      1      2  113781  151.5500  C22 C26        S  NaN  135.0   \n",
       "4  25.0000      1      2  113781  151.5500  C22 C26        S  NaN    NaN   \n",
       "\n",
       "                         home.dest  \n",
       "0                     St Louis, MO  \n",
       "1  Montreal, PQ / Chesterville, ON  \n",
       "2  Montreal, PQ / Chesterville, ON  \n",
       "3  Montreal, PQ / Chesterville, ON  \n",
       "4  Montreal, PQ / Chesterville, ON  "
      ]
     },
     "execution_count": 55,
     "metadata": {},
     "output_type": "execute_result"
    }
   ],
   "source": [
    "df.head()"
   ]
  },
  {
   "cell_type": "code",
   "execution_count": 60,
   "id": "316946e0",
   "metadata": {},
   "outputs": [
    {
     "data": {
      "text/plain": [
       "<Figure size 1200x800 with 0 Axes>"
      ]
     },
     "metadata": {},
     "output_type": "display_data"
    },
    {
     "data": {
      "image/png": "[encoded data removed]",
      "text/plain": [
       "<Figure size 640x480 with 3 Axes>"
      ]
     },
     "metadata": {},
     "output_type": "display_data"
    }
   ],
   "source": [
    "plt.figure(figsize=(12, 8))\n",
    "mosaic(df, ['gender', 'pclass', 'survived'])\n",
    "plt.title('Mosaic Chart of Gender, Class, and Survival')\n",
    "plt.show()"
   ]
  },
  {
   "cell_type": "markdown",
   "id": "1d0c17cc",
   "metadata": {},
   "source": [
    "## 3. Mosaic Chart for 'Gender', 'Pclass', and 'Survived' Columns (Titanic Dataset):\n",
    "\n",
    "**Data Overview:**\n",
    "- The analysis shifts focus to the 'titanic.csv' dataset, which contains information about passengers aboard the Titanic, including their gender, passenger class, and survival status.\n",
    "\n",
    "**Methodology:**\n",
    "- The dataset is loaded, and a mosaic chart is created using seaborn's mosaicplot function.\n",
    "- The mosaic chart visually represents the relationships between gender, passenger class (Pclass), and survival status.\n",
    "\n",
    "**Visualization:**\n",
    "- The mosaic chart displays rectangular tiles, with each tile representing a combination of gender, passenger class, and survival status.\n",
    "- The size and color of each tile provide insights into the relative frequencies and proportions of passengers in different categories.\n",
    "\n",
    "**Insights:**\n",
    "- The mosaic chart helps in understanding how survival rates vary across different genders and passenger classes.\n",
    "- It can reveal patterns such as higher survival rates among certain groups or disparities in survival based on gender and class.\n",
    "\n",
    "---\n",
    "\n",
    "# Conclusion:\n",
    "These visualizations offer valuable insights into both cargo trends and passenger demographics aboard the Titanic. The pie charts provide a clear picture of cargo distribution, while the mosaic chart sheds light on survival dynamics among Titanic passengers based on gender and class. Such analyses can inform strategic decisions in cargo management and historical investigations into maritime disasters."
   ]
  },
  {
   "cell_type": "code",
   "execution_count": null,
   "id": "c310bb8d",
   "metadata": {},
   "outputs": [],
   "source": []
  }
 ],
 "metadata": {
  "kernelspec": {
   "display_name": "Python 3 (ipykernel)",
   "language": "python",
   "name": "python3"
  },
  "language_info": {
   "codemirror_mode": {
    "name": "ipython",
    "version": 3
   },
   "file_extension": ".py",
   "mimetype": "text/x-python",
   "name": "python",
   "nbconvert_exporter": "python",
   "pygments_lexer": "ipython3",
   "version": "3.11.5"
  }
 },
 "nbformat": 4,
 "nbformat_minor": 5
}
